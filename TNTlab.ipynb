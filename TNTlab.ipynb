{
  "cells": [
    {
      "cell_type": "markdown",
      "metadata": {
        "id": "view-in-github",
        "colab_type": "text"
      },
      "source": [
        "<a href=\"https://colab.research.google.com/github/AtreyiKiit/TNT_Lab/blob/main/TNTlab.ipynb\" target=\"_parent\"><img src=\"https://colab.research.google.com/assets/colab-badge.svg\" alt=\"Open In Colab\"/></a>"
      ]
    },
    {
      "cell_type": "code",
      "execution_count": null,
      "metadata": {
        "colab": {
          "base_uri": "https://localhost:8080/"
        },
        "id": "O_258GRMA8P6",
        "outputId": "3eb70369-a5d2-422a-ea02-2f9f7b272eb3"
      },
      "outputs": [
        {
          "name": "stdout",
          "output_type": "stream",
          "text": [
            "unimplemented\n"
          ]
        }
      ],
      "source": [
        "#lab1\n",
        "def drawLine(color, thick):\n",
        "  thick = thick + 2\n",
        "  print('unimplemented')\n",
        "drawLine('red', 4)"
      ]
    },
    {
      "cell_type": "code",
      "execution_count": null,
      "metadata": {
        "colab": {
          "base_uri": "https://localhost:8080/"
        },
        "id": "u6ZJ2o_iBHpo",
        "outputId": "3f604788-d84f-4609-848e-c367b568d2b4"
      },
      "outputs": [
        {
          "name": "stdout",
          "output_type": "stream",
          "text": [
            "-6 is negative\n",
            "6 is positive\n",
            "0 is zero\n"
          ]
        }
      ],
      "source": [
        "def sign(x):\n",
        "  if x<0:\n",
        "    print(x, 'is negative')\n",
        "  elif x==0:\n",
        "         print(x, 'is zero')\n",
        "  else:\n",
        "         print(x, 'is positive')\n",
        "\n",
        "sign(-6)\n",
        "sign(6)\n",
        "sign(0)\n",
        "\n"
      ]
    },
    {
      "cell_type": "code",
      "execution_count": null,
      "metadata": {
        "colab": {
          "base_uri": "https://localhost:8080/"
        },
        "id": "r8AgYFFCEFFE",
        "outputId": "c9568a86-bceb-4093-c1f2-a2e663fea143"
      },
      "outputs": [
        {
          "name": "stdout",
          "output_type": "stream",
          "text": [
            "0\n",
            "1\n",
            "2\n",
            "3\n",
            "4\n"
          ]
        }
      ],
      "source": [
        "for i in range(0,5):\n",
        "  print(i)"
      ]
    },
    {
      "cell_type": "code",
      "execution_count": null,
      "metadata": {
        "colab": {
          "base_uri": "https://localhost:8080/"
        },
        "id": "4Mh3uocKExPl",
        "outputId": "5edfe68e-6979-4be6-8e68-4505d34f91a8"
      },
      "outputs": [
        {
          "name": "stdout",
          "output_type": "stream",
          "text": [
            "counting till 5\n",
            "1\n",
            "2\n",
            "3\n",
            "4\n",
            "5\n"
          ]
        }
      ],
      "source": [
        "def count(n):\n",
        "  for i in range(1, n+1):\n",
        "    print(i)\n",
        "\n",
        "print('counting till 5')\n",
        "count(5)"
      ]
    },
    {
      "cell_type": "code",
      "execution_count": null,
      "metadata": {
        "colab": {
          "base_uri": "https://localhost:8080/"
        },
        "id": "OSB2jLjBE138",
        "outputId": "cff62176-42ae-4f00-995e-7882c3ebd53b"
      },
      "outputs": [
        {
          "name": "stdout",
          "output_type": "stream",
          "text": [
            "counting till 10\n",
            "1\n",
            "3\n",
            "5\n",
            "7\n",
            "9\n"
          ]
        }
      ],
      "source": [
        "def count(n):\n",
        "  for i in range(1, n+1 , 2):\n",
        "    print(i)\n",
        "\n",
        "print('counting till 10')\n",
        "count(10)"
      ]
    },
    {
      "cell_type": "code",
      "execution_count": null,
      "metadata": {
        "colab": {
          "base_uri": "https://localhost:8080/"
        },
        "id": "8uxRcKYOHif_",
        "outputId": "7bd9ae36-1c60-4fed-daaa-b24a5b58444c"
      },
      "outputs": [
        {
          "name": "stdout",
          "output_type": "stream",
          "text": [
            "factorial of 10 is 1\n"
          ]
        }
      ],
      "source": [
        "def factorial(n):\n",
        "  ans = 1\n",
        "  for i in range(2, n+1):\n",
        "     ans = ans*1\n",
        "  return ans\n",
        "print('factorial of 10 is',\n",
        "      factorial(10))"
      ]
    },
    {
      "cell_type": "code",
      "execution_count": null,
      "metadata": {
        "colab": {
          "base_uri": "https://localhost:8080/"
        },
        "id": "X88mBKzAIeJ7",
        "outputId": "15991e27-f6a0-4373-db56-9bb010949eeb"
      },
      "outputs": [
        {
          "name": "stdout",
          "output_type": "stream",
          "text": [
            "1\n",
            "2\n",
            "3\n",
            "4\n",
            "5\n",
            "6\n",
            "7\n",
            "8\n",
            "9\n",
            "10\n",
            "11\n",
            "12\n",
            "13\n",
            "14\n",
            "15\n",
            "16\n",
            "17\n",
            "18\n",
            "19\n",
            "20\n"
          ]
        }
      ],
      "source": [
        " for i in range(1, 21 , 1):\n",
        "   print(i)"
      ]
    },
    {
      "cell_type": "code",
      "execution_count": null,
      "metadata": {
        "colab": {
          "base_uri": "https://localhost:8080/"
        },
        "id": "RUI-ZQwlIqNx",
        "outputId": "46e9d064-6e0d-45f5-d0a1-80896347666b"
      },
      "outputs": [
        {
          "name": "stdout",
          "output_type": "stream",
          "text": [
            "0.5\n",
            "1.0\n",
            "1.5\n",
            "2.0\n",
            "2.5\n",
            "3.0\n",
            "3.5\n",
            "4.0\n",
            "4.5\n",
            "5.0\n",
            "5.5\n",
            "6.0\n",
            "6.5\n",
            "7.0\n",
            "7.5\n",
            "8.0\n",
            "8.5\n",
            "9.0\n",
            "9.5\n",
            "10.0\n",
            "10.5\n"
          ]
        }
      ],
      "source": [
        "for i in range(1, 22 , 1):\n",
        "   print(i/2)"
      ]
    },
    {
      "cell_type": "code",
      "execution_count": null,
      "metadata": {
        "colab": {
          "base_uri": "https://localhost:8080/"
        },
        "id": "6-mu91krJJrv",
        "outputId": "1fdf4d5b-e568-4169-c909-f5e5b57748eb"
      },
      "outputs": [
        {
          "name": "stdout",
          "output_type": "stream",
          "text": [
            "😀 😁 😂 😃 😄 😅 😆 😇 😈 😉 😊 😋 😌 😍 😎 😏 😐 😑 😒 😓 😔 😕 😖 😗 😘 😙 😚 😛 😜 😝 😞 😟 😠 😡 😢 😣 😤 😥 😦 😧 😨 😩 😪 😫 😬 😭 😮 😯 😰 😱 😲 😳 😴 😵 😶 😷 😸 😹 😺 😻 😼 😽 😾 😿 🙀 🙁 🙂 🙃 🙄 🙅 🙆 🙇 🙈 🙉 🙊 🙋 🙌 🙍 🙎 🙏\n"
          ]
        }
      ],
      "source": [
        "#Printing Unicode emojis\n",
        "print(' '.join(chr(c) for c in range(0x1f600, 0x1f650)))\n"
      ]
    },
    {
      "cell_type": "code",
      "execution_count": null,
      "metadata": {
        "colab": {
          "base_uri": "https://localhost:8080/"
        },
        "id": "wzV0N_AxNQW6",
        "outputId": "1a5d98c1-789f-4328-d10e-f27e7778c8a4"
      },
      "outputs": [
        {
          "name": "stdout",
          "output_type": "stream",
          "text": [
            "Type of a is <class 'list'>\n",
            "a= [1, 2, 3, 4]\n",
            "Printing the list and squares\n",
            "1 1\n",
            "2 4\n",
            "3 9\n",
            "4 16\n",
            "Changing the last value to 5\n",
            "modified a= [1, 2, 3, 5]\n"
          ]
        }
      ],
      "source": [
        "#lab2\n",
        "#list\n",
        "a = [1,2,3,4]\n",
        "print('Type of a is',type(a))\n",
        "print('a=',a)\n",
        "print('Printing the list and squares')\n",
        "for n in a:\n",
        " print(n,n*n)\n",
        "print('Changing the last value to 5')\n",
        "a[3]=5\n",
        "print('modified a=',a)"
      ]
    },
    {
      "cell_type": "code",
      "execution_count": null,
      "metadata": {
        "colab": {
          "base_uri": "https://localhost:8080/"
        },
        "id": "gNn99pAf9t1Z",
        "outputId": "24ff7e77-4107-4044-8aef-5a80ea6a28d1"
      },
      "outputs": [
        {
          "name": "stdout",
          "output_type": "stream",
          "text": [
            "0\n"
          ]
        }
      ],
      "source": [
        "import os\n",
        "print(os.system('cal'))"
      ]
    },
    {
      "cell_type": "code",
      "execution_count": null,
      "metadata": {
        "colab": {
          "base_uri": "https://localhost:8080/"
        },
        "id": "a6zCJk3i_pdc",
        "outputId": "b786172f-a53b-4d2b-a6c9-38b04361b6d2"
      },
      "outputs": [
        {
          "name": "stdout",
          "output_type": "stream",
          "text": [
            "Type of b is <class 'tuple'>\n",
            "b= (1, 2, 3, 4)\n",
            "Can not modify tuple b, b is read only\n",
            "Last element of b: 4\n"
          ]
        }
      ],
      "source": [
        "#tuple is read-only version of list\n",
        "b = (1,2,3,4)\n",
        "print('Type of b is',type(b))\n",
        "print('b=',b)\n",
        "print('Can not modify tuple b, b is read only')\n",
        "print('Last element of b:', b[3])"
      ]
    },
    {
      "cell_type": "code",
      "execution_count": null,
      "metadata": {
        "colab": {
          "base_uri": "https://localhost:8080/"
        },
        "id": "12yda-rXALal",
        "outputId": "c43f9b73-498c-45c9-876a-8685c220ba60"
      },
      "outputs": [
        {
          "name": "stdout",
          "output_type": "stream",
          "text": [
            "[1, 2, [3, 4, [7, 8]], 5, 6]\n"
          ]
        }
      ],
      "source": [
        "tree=[1,2,[3,4,[7,8]],5,6]\n",
        "print(tree)\n"
      ]
    },
    {
      "cell_type": "code",
      "execution_count": null,
      "metadata": {
        "colab": {
          "base_uri": "https://localhost:8080/",
          "height": 131
        },
        "id": "i3Pu4N7sBAII",
        "outputId": "f0f32c69-1479-4ffd-d097-5d9dbb2aba68"
      },
      "outputs": [
        {
          "ename": "IndentationError",
          "evalue": "ignored",
          "output_type": "error",
          "traceback": [
            "\u001b[0;36m  File \u001b[0;32m\"<ipython-input-39-c203a483e7bb>\"\u001b[0;36m, line \u001b[0;32m3\u001b[0m\n\u001b[0;31m    print(el)\u001b[0m\n\u001b[0m        ^\u001b[0m\n\u001b[0;31mIndentationError\u001b[0m\u001b[0;31m:\u001b[0m expected an indented block\n"
          ]
        }
      ],
      "source": [
        "a1=[1,2,\"apple\"]\n",
        "for el in al:\n",
        "print(el)"
      ]
    },
    {
      "cell_type": "code",
      "execution_count": null,
      "metadata": {
        "colab": {
          "base_uri": "https://localhost:8080/"
        },
        "id": "pVUqwWioBTL8",
        "outputId": "bcb1ccdd-f960-4141-8d4c-25e8d2015efe"
      },
      "outputs": [
        {
          "data": {
            "text/plain": [
              "5"
            ]
          },
          "execution_count": 20,
          "metadata": {},
          "output_type": "execute_result"
        }
      ],
      "source": [
        "len(tree)"
      ]
    },
    {
      "cell_type": "code",
      "execution_count": null,
      "metadata": {
        "colab": {
          "base_uri": "https://localhost:8080/"
        },
        "id": "jWrlut_RBZJC",
        "outputId": "9bc54b89-2025-4224-ca98-b07d3e201e19"
      },
      "outputs": [
        {
          "name": "stdout",
          "output_type": "stream",
          "text": [
            "<class 'tuple'>\n",
            "(1, 2, 3, 4)\n"
          ]
        }
      ],
      "source": [
        "b= (1,2,3,4)\n",
        "print(type(b))\n",
        "print(b)"
      ]
    },
    {
      "cell_type": "code",
      "execution_count": null,
      "metadata": {
        "colab": {
          "base_uri": "https://localhost:8080/"
        },
        "id": "ef9ZOT3XB5TN",
        "outputId": "532be734-53fb-4f7d-e7cd-e22ea19a9fc1"
      },
      "outputs": [
        {
          "name": "stdout",
          "output_type": "stream",
          "text": [
            "<class 'dict'>\n"
          ]
        }
      ],
      "source": [
        "#list is mutable\n",
        "#tuple is immutable\n",
        "c = {'month':'jan' ,\n",
        "     'date' : 13,\n",
        "     'year': 2022}\n",
        "print(type(c))"
      ]
    },
    {
      "cell_type": "code",
      "execution_count": null,
      "metadata": {
        "colab": {
          "base_uri": "https://localhost:8080/"
        },
        "id": "FnPxwQCyDXDb",
        "outputId": "73ad401e-928b-4e17-8223-8a14de4056dd"
      },
      "outputs": [
        {
          "name": "stdout",
          "output_type": "stream",
          "text": [
            "month\n",
            "date\n",
            "year\n"
          ]
        }
      ],
      "source": [
        "for n in c:\n",
        "  print(n)"
      ]
    },
    {
      "cell_type": "code",
      "execution_count": null,
      "metadata": {
        "colab": {
          "base_uri": "https://localhost:8080/"
        },
        "id": "x_rSSDIbDi7H",
        "outputId": "96d626e0-0ccf-4b0e-fe2b-4f2c34d773c5"
      },
      "outputs": [
        {
          "name": "stdout",
          "output_type": "stream",
          "text": [
            "month jan\n",
            "date 13\n",
            "year 2022\n"
          ]
        }
      ],
      "source": [
        "for n in c:\n",
        "  print(n , c[n])"
      ]
    },
    {
      "cell_type": "code",
      "execution_count": null,
      "metadata": {
        "colab": {
          "base_uri": "https://localhost:8080/"
        },
        "id": "3bymqYHCEESf",
        "outputId": "3a0149e4-fa1e-490c-b67f-e55f2bbd278a"
      },
      "outputs": [
        {
          "name": "stdout",
          "output_type": "stream",
          "text": [
            "<class 'set'>\n",
            "{2, 3, 'apple'}\n"
          ]
        }
      ],
      "source": [
        "d = {'apple' , 2 , 3}\n",
        "print(type(d))\n",
        "print(d)"
      ]
    },
    {
      "cell_type": "code",
      "execution_count": null,
      "metadata": {
        "colab": {
          "base_uri": "https://localhost:8080/"
        },
        "id": "PAZMGMG8FnhA",
        "outputId": "dffab547-5853-41f3-ab45-df2d339015a7"
      },
      "outputs": [
        {
          "name": "stdout",
          "output_type": "stream",
          "text": [
            "<class 'dict'>\n",
            "<class 'set'>\n",
            "{}\n",
            "set()\n"
          ]
        }
      ],
      "source": [
        "e = { }\n",
        "print(type(e))\n",
        "f = set()\n",
        "print(type(f))\n",
        "print(e)\n",
        "print(f)"
      ]
    },
    {
      "cell_type": "code",
      "execution_count": null,
      "metadata": {
        "colab": {
          "base_uri": "https://localhost:8080/"
        },
        "id": "QiTzBqgXGGOE",
        "outputId": "db5c258e-26cd-448b-f2e3-68cb9b5ba947"
      },
      "outputs": [
        {
          "name": "stdout",
          "output_type": "stream",
          "text": [
            "Tim obtained 242 out of 300\n"
          ]
        }
      ],
      "source": [
        "class Student:\n",
        "    def __init__(self,name):\n",
        "        self.name = name\n",
        "        self.marks = {}\n",
        "        \n",
        "    def addMarks(self, subject, marks):\n",
        "        self.marks.update(\n",
        "            {subject: marks})\n",
        "        \n",
        "    def printTotal(self):\n",
        "        total = 0\n",
        "        maximum = 0\n",
        "        \n",
        "        for key in self.marks:\n",
        "            total += self.marks[key]\n",
        "            maximum += 100\n",
        "        print(self.name,'obtained',\n",
        "              total,'out of',maximum)\n",
        "s1 = Student(\"Tim\")\n",
        "s1.addMarks(\"Math\", 81)\n",
        "s1.addMarks(\"Physics\", 73)\n",
        "s1.addMarks(\"Literature\", 88)\n",
        "s1.printTotal()      "
      ]
    },
    {
      "cell_type": "code",
      "execution_count": null,
      "metadata": {
        "colab": {
          "base_uri": "https://localhost:8080/"
        },
        "id": "uXt9k6n1OcAf",
        "outputId": "381a375c-38e3-48bb-a0aa-bd6d24791b8a"
      },
      "outputs": [
        {
          "name": "stdout",
          "output_type": "stream",
          "text": [
            "Enter 1st input=2\n",
            "Enter 2nd input=3\n",
            "\n",
            " The addition of 2 and 3 is 5\n"
          ]
        }
      ],
      "source": [
        "a=int(input(\"Enter 1st input=\"))\n",
        "b=int(input(\"Enter 2nd input=\"))\n",
        "print(\"\\n The addition of\",a,\"and\",b,\"is\",a+b)"
      ]
    },
    {
      "cell_type": "code",
      "execution_count": null,
      "metadata": {
        "colab": {
          "base_uri": "https://localhost:8080/"
        },
        "id": "KKWUEQzhW9yB",
        "outputId": "478214ff-3178-4d2f-d345-356251645dc6"
      },
      "outputs": [
        {
          "name": "stdout",
          "output_type": "stream",
          "text": [
            "yellowgreen\n",
            "6\n",
            "Printing entire dictionary\n",
            "greetings --> hello\n",
            "True\n",
            "False\n",
            "color --> yellowgreen\n",
            "True\n",
            "False\n",
            "4 --> ok\n",
            "True\n",
            "False\n",
            "5 --> 6\n",
            "True\n",
            "False\n",
            "7 --> eight\n",
            "True\n",
            "False\n"
          ]
        }
      ],
      "source": [
        "c = { 'greetings': 'hello','color': 'yellowgreen',\n",
        "4: 'ok',\n",
        "5: 6,\n",
        "7: 'eight' }\n",
        "print(c['color'])\n",
        "print(c[5])\n",
        "print('Printing entire dictionary')\n",
        "for key in c:\n",
        "    print(key,'-->', c[key])\n",
        "    print('color' in c)\n",
        "    print('shade' in c)"
      ]
    },
    {
      "cell_type": "code",
      "execution_count": null,
      "metadata": {
        "colab": {
          "base_uri": "https://localhost:8080/"
        },
        "id": "n_I1k125AyW7",
        "outputId": "dea3ccea-fdc3-4ceb-8caa-af48088aae84"
      },
      "outputs": [
        {
          "name": "stdout",
          "output_type": "stream",
          "text": [
            "Meow Meow! Ginger Say Hello!\n",
            "Phew Phew! Polly Say Hello\n",
            "Clifford is a Dog .\n",
            "Ginger is a cat .\n",
            "Polly is a parrot .\n",
            "Is Ginger black? False\n"
          ]
        }
      ],
      "source": [
        "#lab 3\n",
        "#define base class\n",
        "class pet:\n",
        "    \n",
        "    def __init__(self,name,kind):\n",
        "        self.name=name\n",
        "        self.kind=kind\n",
        "     \n",
        "    def greet(self):\n",
        "        pass\n",
        "    \n",
        "    def describe(self):\n",
        "        print(self.name,\"is a\",self.kind,\".\")\n",
        "        \n",
        "class parrot(pet):\n",
        "    \n",
        "    def __init__(self,name):\n",
        "        pet.__init__(self,name,\"parrot\")\n",
        "        \n",
        "    def greet(self):\n",
        "        print(\"Phew Phew!\",self.name,\"Say Hello\")\n",
        "        \n",
        "class dog(pet):\n",
        "    def __init__(self,name,breed):\n",
        "        pet.__init__(self,name,\"Dog\")\n",
        "        self.breed=breed\n",
        "        \n",
        "        def greet(self):\n",
        "            print(\"Woof Woof!\",self.name,\"Say Hello\")\n",
        "            \n",
        "        def describe(self):\n",
        "            print(self.name,\"is a\",self.breed,self.kind,\".\")\n",
        "            \n",
        "class cat(pet):\n",
        "    def __init__(self,name,color):\n",
        "        pet.__init__(self,name,\"cat\")\n",
        "        self.color=color\n",
        "        \n",
        "    def greet(self):\n",
        "        print(\"Meow Meow!\",self.name,\"Say Hello!\")\n",
        "        \n",
        "        \n",
        "    def isBlack(self):\n",
        "        return self.color==\"black\"\n",
        "    \n",
        "p1=dog(\"Clifford\",\"Rottweiler\")\n",
        "p2=cat(\"Ginger\",\"Brown\")\n",
        "p3=parrot(\"Polly\")\n",
        "\n",
        "p1.greet()\n",
        "p2.greet()\n",
        "p3.greet()\n",
        "\n",
        "p1.describe()\n",
        "p2.describe()\n",
        "p3.describe()\n",
        "\n",
        "print(\"Is\",p2.name,\"black?\",p2.isBlack())"
      ]
    },
    {
      "cell_type": "code",
      "execution_count": null,
      "metadata": {
        "colab": {
          "base_uri": "https://localhost:8080/"
        },
        "id": "YNFq6B_lBrlO",
        "outputId": "1da8e49c-e16e-4f3e-cb7d-ad9e9b1c1cab"
      },
      "outputs": [
        {
          "name": "stdout",
          "output_type": "stream",
          "text": [
            "Enter principal amount: 1500\n",
            "Enter annual rate of interest : 3\n",
            "Enter time period in months: 4\n",
            "Monthly Installment to be paid =  4.995847176079734\n"
          ]
        }
      ],
      "source": [
        "p = float(input(\"Enter principal amount: \"))\n",
        "R = float(input(\"Enter annual rate of interest : \"))\n",
        "t = int(input(\"Enter time period in months: \" ))\n",
        "\n",
        "\n",
        "r = R/(12*100) # interest rate per month\n",
        "installment = p * r * ((1+r)*t)/((1+r)*t - 1) # Monthly Installment \n",
        "print(\"Monthly Installment to be paid = \", installment)\n",
        "\n"
      ]
    },
    {
      "cell_type": "code",
      "execution_count": null,
      "metadata": {
        "colab": {
          "base_uri": "https://localhost:8080/"
        },
        "id": "lWImkaoeMy-A",
        "outputId": "3c0504c8-efad-480e-b7af-ca2e347ee7a4"
      },
      "outputs": [
        {
          "name": "stdout",
          "output_type": "stream",
          "text": [
            "10\n",
            "20\n"
          ]
        }
      ],
      "source": [
        "#lab 4\n",
        "a = 10\n",
        "b = 20\n",
        "print(a)\n",
        "print(b)"
      ]
    },
    {
      "cell_type": "code",
      "execution_count": null,
      "metadata": {
        "colab": {
          "base_uri": "https://localhost:8080/",
          "height": 235
        },
        "id": "2nzY_RS7Erbc",
        "outputId": "4325833c-34bd-465d-e4bb-967ede276388"
      },
      "outputs": [
        {
          "name": "stdout",
          "output_type": "stream",
          "text": [
            "0.1\n"
          ]
        },
        {
          "ename": "ZeroDivisionError",
          "evalue": "ignored",
          "output_type": "error",
          "traceback": [
            "\u001b[0;31m---------------------------------------------------------------------------\u001b[0m",
            "\u001b[0;31mZeroDivisionError\u001b[0m                         Traceback (most recent call last)",
            "\u001b[0;32m<ipython-input-6-96d24bf11f7b>\u001b[0m in \u001b[0;36m<module>\u001b[0;34m()\u001b[0m\n\u001b[1;32m      2\u001b[0m \u001b[0;34m\u001b[0m\u001b[0m\n\u001b[1;32m      3\u001b[0m \u001b[0mprint\u001b[0m\u001b[0;34m(\u001b[0m\u001b[0;36m1\u001b[0m\u001b[0;34m/\u001b[0m\u001b[0;36m10\u001b[0m\u001b[0;34m)\u001b[0m\u001b[0;34m\u001b[0m\u001b[0;34m\u001b[0m\u001b[0m\n\u001b[0;32m----> 4\u001b[0;31m \u001b[0mprint\u001b[0m\u001b[0;34m(\u001b[0m\u001b[0;36m1\u001b[0m\u001b[0;34m/\u001b[0m\u001b[0;36m0\u001b[0m\u001b[0;34m)\u001b[0m\u001b[0;34m\u001b[0m\u001b[0;34m\u001b[0m\u001b[0m\n\u001b[0m\u001b[1;32m      5\u001b[0m \u001b[0mprint\u001b[0m\u001b[0;34m(\u001b[0m\u001b[0;36m1\u001b[0m\u001b[0;34m/\u001b[0m\u001b[0;36m2\u001b[0m\u001b[0;34m)\u001b[0m\u001b[0;34m\u001b[0m\u001b[0;34m\u001b[0m\u001b[0m\n",
            "\u001b[0;31mZeroDivisionError\u001b[0m: division by zero"
          ]
        }
      ],
      "source": [
        "#exception handling \n",
        "\n",
        "print(1/10)\n",
        "print(1/0) #will not print \n",
        "print(1/2)"
      ]
    },
    {
      "cell_type": "code",
      "execution_count": null,
      "metadata": {
        "colab": {
          "base_uri": "https://localhost:8080/"
        },
        "id": "3T5cguEPFAcl",
        "outputId": "2faf3224-9e5c-4a23-bb04-ad367c51b144"
      },
      "outputs": [
        {
          "name": "stdout",
          "output_type": "stream",
          "text": [
            "0.1\n",
            "division by zero\n",
            "0.05\n"
          ]
        }
      ],
      "source": [
        "def invert(x):\n",
        "    ans = 0\n",
        "    try :\n",
        "      ans = 1/x\n",
        "    except Exception as err :\n",
        "      print(err)\n",
        "    else :\n",
        "        print(ans)\n",
        "\n",
        "invert(10)  \n",
        "invert(0)\n",
        "invert(20)          \n"
      ]
    },
    {
      "cell_type": "code",
      "execution_count": null,
      "metadata": {
        "colab": {
          "base_uri": "https://localhost:8080/"
        },
        "id": "Q5zzDR9cJWRu",
        "outputId": "34ce6c1f-b5df-4c5f-bb41-3b828cbe12af"
      },
      "outputs": [
        {
          "name": "stdout",
          "output_type": "stream",
          "text": [
            "[[[-13.77590541  12.94765618  -1.88829104  35.31228288]\n",
            "  [  0.77906181  -6.64309453  10.98274349  -3.30107445]\n",
            "  [ -8.32978112 -18.43145082 -15.10227067  -5.63063521]]\n",
            "\n",
            " [[ -5.21920797 -19.17072964  -1.26231343 -15.55180578]\n",
            "  [  1.40375484   3.48556041  -2.55358316 -10.01762662]\n",
            "  [  7.40595257   5.48549778  12.89878813   9.97167802]]]\n"
          ]
        }
      ],
      "source": [
        "import numpy as np\n",
        "data = 10*np.random.randn(2,3,4) #2X3X4 matrix gets printed \n",
        "print(data)"
      ]
    },
    {
      "cell_type": "code",
      "execution_count": null,
      "metadata": {
        "colab": {
          "base_uri": "https://localhost:8080/"
        },
        "id": "KpZD4AT2KXEy",
        "outputId": "d7925b5e-2cc7-46db-eb68-44637a9ab1a1"
      },
      "outputs": [
        {
          "name": "stdout",
          "output_type": "stream",
          "text": [
            "[[[  4.  -1.   2.  14.]\n",
            "  [ -1.  -2.  13. -22.]\n",
            "  [  2.  -5. -11. -15.]]\n",
            "\n",
            " [[ 16.   1. -12.   6.]\n",
            "  [-15. -14. -10. -16.]\n",
            "  [ -6.  -4.   4. -13.]]]\n"
          ]
        }
      ],
      "source": [
        "import numpy as np\n",
        "data = np.round(10*np.random.randn(2,3,4)) #rounding up the numbers \n",
        "print(data)"
      ]
    },
    {
      "cell_type": "code",
      "execution_count": null,
      "metadata": {
        "colab": {
          "base_uri": "https://localhost:8080/"
        },
        "id": "6mjk34SWLAUG",
        "outputId": "8dfd726c-1e46-42e8-9a49-65c5f6a3fa8a"
      },
      "outputs": [
        {
          "name": "stdout",
          "output_type": "stream",
          "text": [
            "[[ 16.   1. -12.   6.]\n",
            " [-15. -14. -10. -16.]\n",
            " [ -6.  -4.   4. -13.]] \n",
            "\n",
            "[[[ -1.  -2.  13. -22.]\n",
            "  [  2.  -5. -11. -15.]]\n",
            "\n",
            " [[-15. -14. -10. -16.]\n",
            "  [ -6.  -4.   4. -13.]]] \n",
            "\n",
            "[[[ -2.  13.]\n",
            "  [ -5. -11.]]\n",
            "\n",
            " [[-14. -10.]\n",
            "  [ -4.   4.]]] \n",
            "\n"
          ]
        }
      ],
      "source": [
        "print( data[1], '\\n')\n",
        "print(data[:,1:,:], '\\n') #slicing\n",
        "print(data[:,1:,1:3], '\\n' )"
      ]
    },
    {
      "cell_type": "code",
      "execution_count": null,
      "metadata": {
        "colab": {
          "base_uri": "https://localhost:8080/"
        },
        "id": "FthceO0NLsNP",
        "outputId": "74317e7d-cdc5-45a6-d615-bb6e88b7f5fc"
      },
      "outputs": [
        {
          "name": "stdout",
          "output_type": "stream",
          "text": [
            "[[1. 1. 1.]\n",
            " [1. 1. 1.]] \n",
            "\n",
            "[[1. 0. 0. 0.]\n",
            " [0. 1. 0. 0.]\n",
            " [0. 0. 1. 0.]\n",
            " [0. 0. 0. 1.]] \n",
            "\n"
          ]
        }
      ],
      "source": [
        "print(np.ones((2,3)),'\\n') #print only 1s\n",
        "print(np.eye(4) ,'\\n') #print 4x4 identity matrix"
      ]
    },
    {
      "cell_type": "code",
      "execution_count": null,
      "metadata": {
        "colab": {
          "base_uri": "https://localhost:8080/"
        },
        "id": "Z-vWDdzeNgRS",
        "outputId": "00de366c-dbe8-4dbf-e809-ca74914f738f"
      },
      "outputs": [
        {
          "name": "stdout",
          "output_type": "stream",
          "text": [
            "[[1 2]\n",
            " [3 4]]\n"
          ]
        }
      ],
      "source": [
        "data = np.matrix([[1,2],[3,4]]) #print matrix acc to row x column format\n",
        "print(data)"
      ]
    },
    {
      "cell_type": "code",
      "execution_count": 4,
      "metadata": {
        "colab": {
          "base_uri": "https://localhost:8080/"
        },
        "id": "kSCiPDuBMULt",
        "outputId": "58ec9c29-2ce2-4a6a-862d-4335d070328f"
      },
      "outputs": [
        {
          "output_type": "stream",
          "name": "stdout",
          "text": [
            "[[1 2]\n",
            " [3 4]]\n",
            "[[1.         1.41421356]\n",
            " [1.73205081 2.        ]]\n",
            "[[1 3]\n",
            " [2 4]]\n",
            "[[ 5 11]\n",
            " [11 25]]\n"
          ]
        }
      ],
      "source": [
        "import numpy as np\n",
        "data = np.matrix([[1,2],[3,4]]) #print matrix acc to row x column format\n",
        "print(data)\n",
        "print(np.sqrt(data)) \n",
        "print(data.T) #tranpose\n",
        "print(data.dot(data.T))  #matrix multipled by transpose \n"
      ]
    },
    {
      "cell_type": "code",
      "source": [
        "#lab 5\n",
        "#plotting \n",
        "#box1\n",
        "\n",
        "import numpy as np\n",
        "import matplotlib.pyplot as plt\n"
      ],
      "metadata": {
        "id": "jg9AIzx5IjUy"
      },
      "execution_count": 6,
      "outputs": []
    },
    {
      "cell_type": "code",
      "source": [
        "#box 2\n",
        "x = np.random.rand(20)\n",
        "y = np.random.rand(20)\n",
        "plt.scatter(x , y)\n",
        "plt.show()"
      ],
      "metadata": {
        "colab": {
          "base_uri": "https://localhost:8080/",
          "height": 268
        },
        "id": "fwPXeqiuNhJ0",
        "outputId": "0621375f-4445-4dc3-ea95-ab6a6a8b47fa"
      },
      "execution_count": 18,
      "outputs": [
        {
          "output_type": "display_data",
          "data": {
            "image/png": "[encoded data removed]",
            "text/plain": [
              "<Figure size 432x288 with 1 Axes>"
            ]
          },
          "metadata": {
            "needs_background": "light"
          }
        }
      ]
    },
    {
      "cell_type": "code",
      "source": [
        "#box 3\n",
        "\n",
        "x = np.arange(0,2,0.1) #print from 0 to 2 with a range of 0.1\n",
        "y1 = np.log(1 + 2*x)\n",
        "plt.plot(x , y1, label='log')\n",
        "y2 = x**2\n",
        "plt.plot(x , y2 ,\n",
        "         c = 'g', ls='--', lw=2,   #lw = line width\n",
        "         marker ='s',mfc = 'r', ms = 8 , label ='power') #styling # ms =  marker size  , mfc = marker face color \n",
        "plt.title('some functions') #title\n",
        "plt.xlabel('x') #x lablel\n",
        "plt.ylabel('f(x)') #y label\n",
        "plt.legend()\n",
        "plt.show()\n"
      ],
      "metadata": {
        "colab": {
          "base_uri": "https://localhost:8080/",
          "height": 295
        },
        "id": "YuW3ckCTOKTK",
        "outputId": "a2943c85-c66b-44c8-9a3a-05615aa79218"
      },
      "execution_count": 25,
      "outputs": [
        {
          "output_type": "display_data",
          "data": {
            "image/png": "[encoded data removed]",
            "text/plain": [
              "<Figure size 432x288 with 1 Axes>"
            ]
          },
          "metadata": {
            "needs_background": "light"
          }
        }
      ]
    },
    {
      "cell_type": "code",
      "source": [
        "print(x)\n",
        "print(np.arange(1,10,0.2))"
      ],
      "metadata": {
        "colab": {
          "base_uri": "https://localhost:8080/"
        },
        "id": "QWEduH7uSOZl",
        "outputId": "c5634d45-fa90-4fbd-cf30-01b96af420b6"
      },
      "execution_count": 22,
      "outputs": [
        {
          "output_type": "stream",
          "name": "stdout",
          "text": [
            "[0.  0.1 0.2 0.3 0.4 0.5 0.6 0.7 0.8 0.9 1.  1.1 1.2 1.3 1.4 1.5 1.6 1.7\n",
            " 1.8 1.9]\n",
            "[1.  1.2 1.4 1.6 1.8 2.  2.2 2.4 2.6 2.8 3.  3.2 3.4 3.6 3.8 4.  4.2 4.4\n",
            " 4.6 4.8 5.  5.2 5.4 5.6 5.8 6.  6.2 6.4 6.6 6.8 7.  7.2 7.4 7.6 7.8 8.\n",
            " 8.2 8.4 8.6 8.8 9.  9.2 9.4 9.6 9.8]\n"
          ]
        }
      ]
    }
  ],
  "metadata": {
    "colab": {
      "collapsed_sections": [],
      "name": "TNTlab.ipynb",
      "provenance": [],
      "authorship_tag": "ABX9TyPsyFQYDIP8pFH7BpuFoweA",
      "include_colab_link": true
    },
    "kernelspec": {
      "display_name": "Python 3",
      "name": "python3"
    },
    "language_info": {
      "name": "python"
    }
  },
  "nbformat": 4,
  "nbformat_minor": 0
}